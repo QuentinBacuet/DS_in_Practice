{
 "cells": [
  {
   "cell_type": "code",
   "execution_count": null,
   "metadata": {},
   "outputs": [],
   "source": [
    "import pandas as pd\n",
    "from IPython.display import display, HTML\n",
    "from keras.models import Sequential\n",
    "from keras.layers import Dense,Dropout\n",
    "import matplotlib.pyplot as plt\n",
    "import numpy as np\n",
    "\n",
    "numpy.random.seed(42)"
   ]
  },
  {
   "cell_type": "code",
   "execution_count": null,
   "metadata": {
    "collapsed": true
   },
   "outputs": [],
   "source": [
    "def prepare_standardplot(title, xlabel):\n",
    "    fig, (ax1, ax2) = plt.subplots(1, 2)\n",
    "    fig.suptitle(title)\n",
    "    ax1.set_ylabel('categorical cross entropy')\n",
    "    ax1.set_xlabel(xlabel)\n",
    "    ax1.set_yscale('log')\n",
    "    ax2.set_ylabel('accuracy [% correct]')\n",
    "    ax2.set_xlabel(xlabel)\n",
    "    return fig, ax1, ax2\n",
    "\n",
    "def finalize_standardplot(fig, ax1, ax2):\n",
    "    ax1handles, ax1labels = ax1.get_legend_handles_labels()\n",
    "    if len(ax1labels) > 0:\n",
    "        ax1.legend(ax1handles, ax1labels)\n",
    "    ax2handles, ax2labels = ax2.get_legend_handles_labels()\n",
    "    if len(ax2labels) > 0:\n",
    "        ax2.legend(ax2handles, ax2labels)\n",
    "    fig.tight_layout()\n",
    "    plt.subplots_adjust(top=0.9)\n",
    "\n",
    "def plot_history(history, title):\n",
    "    fig, ax1, ax2 = prepare_standardplot(title, 'epoch')\n",
    "    ax1.plot(history.history['loss'], label = \"training\")\n",
    "    ax1.plot(history.history['val_loss'], label = \"validation\")\n",
    "    ax2.plot(history.history['binary_accuracy'], label = \"training\")\n",
    "    ax2.plot(history.history['val_binary_accuracy'], label = \"validation\")\n",
    "    finalize_standardplot(fig, ax1, ax2)\n",
    "    return fig"
   ]
  },
  {
   "cell_type": "code",
   "execution_count": null,
   "metadata": {
    "collapsed": true
   },
   "outputs": [],
   "source": [
    "df = pd.read_csv(\"bitstampUSD_1-min_data_2012-01-01_to_2018-01-08.csv\")"
   ]
  },
  {
   "cell_type": "code",
   "execution_count": null,
   "metadata": {
    "collapsed": true
   },
   "outputs": [],
   "source": [
    "#df['Timestamp'] = pd.to_datetime(df['Timestamp'],unit='s')\n",
    "df= df.drop('Timestamp',1)\n",
    "\n",
    "df[['Open','High','Low','Close']] = df[['Open','High','Low','Close']].apply(lambda x: np.log(x))\n",
    "\n",
    "df = (df-df.mean())/df.std()"
   ]
  },
  {
   "cell_type": "code",
   "execution_count": null,
   "metadata": {},
   "outputs": [],
   "source": [
    "day_window = 60 * 24\n",
    "\n",
    "df[['Open_S_1','High_S_1','Low_S_1','Close_S_1']] = df[['Open','High','Low','Close']].shift(day_window)\n",
    "df[['Open_S_2','High_S_2','Low_S_2','Close_S_2']] = df[['Open','High','Low','Close']].shift(day_window*2)\n",
    "df[['Open_S_3','High_S_3','Low_S_3','Close_S_3']] = df[['Open','High','Low','Close']].shift(day_window*3)\n",
    "\n",
    "df[['Open_W','High_W','Low_W','Close_W']] = df[['Open','High','Low','Close']].divide(df['Volume_(BTC)'],axis = 0)\n",
    "df[['Open_W_MA_5','High_W_MA_5','Low_W_MA_5','Close_W_MA_5']] = df[['Open','High','Low','Close']].rolling(window=day_window * 5).mean()\n",
    "df[['Open_MA_5','High_MA_5','Low_MA_5','Close_MA_5']] = df[['Open','High','Low','Close']].rolling(window=day_window * 5).mean()\n",
    "df[['Open_EMA_5','High_EMA_5','Low_EMA_5','Close_EMA_5']] = df[['Open','High','Low','Close']].ewm(span=day_window * 5).mean()\n",
    "\n",
    "df[['Open_MAX_5','High_MAX_5','Low_MAX_5','Close_MAX_5']] = df[['Open','High','Low','Close']].rolling(window=day_window * 5).max()\n",
    "df[['Open_MIN_5','High_MIN_5','Low_MIN_5','Close_MIN_5']] = df[['Open','High','Low','Close']].rolling(window=day_window * 5).min()\n",
    "\n",
    "df['Open_TENKAN_5'] = 0.5 * (df['Open_MIN_5'] + df['Open_MAX_5'])\n",
    "df['High_TENKAN_5'] = 0.5 * (df['High_MIN_5'] + df['High_MAX_5'])\n",
    "df['Low_TENKAN_5'] = 0.5 * (df['Low_MIN_5'] + df['Low_MAX_5'])\n",
    "df['Close_TENKAN_5'] = 0.5 * (df['Close_MIN_5'] + df['Close_MAX_5'])\n",
    "\n",
    "df[['Open_W_MA_10','High_W_MA_10','Low_W_MA_10','Close_W_MA_10']] = df[['Open','High','Low','Close']].rolling(window=day_window * 10).mean()\n",
    "df[['Open_MA_10','High_MA_10','Low_MA_10','Close_MA_10']] = df[['Open','High','Low','Close']].rolling(window=day_window * 10).mean()\n",
    "df[['Open_EMA_10','High_EMA_10','Low_EMA_10','Close_EMA_10']] = df[['Open','High','Low','Close']].ewm(span=day_window * 10).mean()\n",
    "\n",
    "df[['Open_MAX_10','High_MAX_10','Low_MAX_10','Close_MAX_10']] = df[['Open','High','Low','Close']].rolling(window=day_window * 10).max()\n",
    "df[['Open_MIN_10','High_MIN_10','Low_MIN_10','Close_MIN_10']] = df[['Open','High','Low','Close']].rolling(window=day_window * 10).min()\n",
    "\n",
    "df['Open_TENKAN_10'] = 0.5 * (df['Open_MIN_10'] + df['Open_MAX_10'])\n",
    "df['High_TENKAN_10'] = 0.5 * (df['High_MIN_10'] + df['High_MAX_10'])\n",
    "df['Low_TENKAN_10'] = 0.5 * (df['Low_MIN_10'] + df['Low_MAX_10'])\n",
    "df['Close_TENKAN_10'] = 0.5 * (df['Close_MIN_10'] + df['Close_MAX_10'])\n",
    "\n",
    "df[['Open_W_MA_15','High_W_MA_15','Low_W_MA_15','Close_W_MA_15']] = df[['Open','High','Low','Close']].rolling(window=day_window * 15).mean()\n",
    "df[['Open_MA_15','High_MA_15','Low_MA_15','Close_MA_15']] = df[['Open','High','Low','Close']].rolling(window=day_window * 15).mean()\n",
    "df[['Open_EMA_15','High_EMA_15','Low_EMA_15','Close_EMA_15']] = df[['Open','High','Low','Close']].ewm(span=day_window * 15).mean()\n",
    "\n",
    "df[['Open_MAX_15','High_MAX_15','Low_MAX_15','Close_MAX_15']] = df[['Open','High','Low','Close']].rolling(window=day_window * 15).max()\n",
    "df[['Open_MIN_15','High_MIN_15','Low_MIN_15','Close_MIN_15']] = df[['Open','High','Low','Close']].rolling(window=day_window * 15).min()\n",
    "\n",
    "df['Open_TENKAN_15'] = 0.5 * (df['Open_MIN_15'] + df['Open_MAX_15'])\n",
    "df['High_TENKAN_15'] = 0.5 * (df['High_MIN_15'] + df['High_MAX_15'])\n",
    "df['Low_TENKAN_15'] = 0.5 * (df['Low_MIN_15'] + df['Low_MAX_15'])\n",
    "df['Close_TENKAN_15'] = 0.5 * (df['Close_MIN_15'] + df['Close_MAX_15'])"
   ]
  },
  {
   "cell_type": "markdown",
   "metadata": {},
   "source": [
    "plusieurs y gains selon différents temps + vote"
   ]
  },
  {
   "cell_type": "code",
   "execution_count": null,
   "metadata": {
    "collapsed": true
   },
   "outputs": [],
   "source": [
    "mean = (df['Open'] + df['Close']) * 0.5\n",
    "res = mean.shift(day_window)\n",
    "\n",
    "df['y'] = ((mean - res) > 0).astype(int)"
   ]
  },
  {
   "cell_type": "code",
   "execution_count": null,
   "metadata": {
    "scrolled": true
   },
   "outputs": [],
   "source": [
    "display(df.sample(10))"
   ]
  },
  {
   "cell_type": "code",
   "execution_count": null,
   "metadata": {},
   "outputs": [],
   "source": [
    "df = df.dropna(how ='any')\n",
    "\n",
    "y = df.y\n",
    "df = (df-df.mean())/df.std()\n",
    "df.y = y\n",
    "display(df.describe())\n",
    "\n",
    "train=df.sample(frac=0.8,random_state=200)\n",
    "test=df.drop(train.index)"
   ]
  },
  {
   "cell_type": "code",
   "execution_count": null,
   "metadata": {},
   "outputs": [],
   "source": [
    "train_x = train.drop('y',1)\n",
    "train_y = train['y']\n",
    "test_x = test.drop('y',1)\n",
    "test_y = test['y']\n",
    "\n",
    "model = Sequential()\n",
    "model.add(Dense(128, input_dim=95, activation='relu'))\n",
    "model.add(Dropout(0.5))\n",
    "model.add(Dense(128, activation='relu'))\n",
    "model.add(Dropout(0.5))\n",
    "model.add(Dense(1, activation='sigmoid'))\n",
    "\n",
    "model.compile(loss='binary_crossentropy',\n",
    "              optimizer='adam',\n",
    "              metrics=['binary_accuracy'])\n",
    "\n",
    "history = model.fit(train_x, train_y, epochs = 25,validation_split = 0.2, verbose=1)\n",
    "scores = model.evaluate(test_x, test_y, verbose=0)"
   ]
  },
  {
   "cell_type": "code",
   "execution_count": null,
   "metadata": {},
   "outputs": [],
   "source": [
    "plot_history(history,\"test\")"
   ]
  },
  {
   "cell_type": "code",
   "execution_count": null,
   "metadata": {},
   "outputs": [],
   "source": [
    "print(scores)"
   ]
  },
  {
   "cell_type": "code",
   "execution_count": null,
   "metadata": {
    "collapsed": true
   },
   "outputs": [],
   "source": []
  }
 ],
 "metadata": {
  "kernelspec": {
   "display_name": "Python 3",
   "language": "python",
   "name": "python3"
  },
  "language_info": {
   "codemirror_mode": {
    "name": "ipython",
    "version": 3
   },
   "file_extension": ".py",
   "mimetype": "text/x-python",
   "name": "python",
   "nbconvert_exporter": "python",
   "pygments_lexer": "ipython3",
   "version": "3.6.3"
  }
 },
 "nbformat": 4,
 "nbformat_minor": 2
}
