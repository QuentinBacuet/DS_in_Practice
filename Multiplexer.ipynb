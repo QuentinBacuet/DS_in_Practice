{
 "cells": [
  {
   "cell_type": "code",
   "execution_count": null,
   "metadata": {
    "collapsed": true
   },
   "outputs": [],
   "source": [
    "import pandas as pd\n",
    "from IPython.display import display, HTML\n",
    "import matplotlib.pyplot as plt\n",
    "import numpy as np\n",
    "import numpy.random as rd"
   ]
  },
  {
   "cell_type": "code",
   "execution_count": null,
   "metadata": {
    "collapsed": true
   },
   "outputs": [],
   "source": [
    "P_CORRECT = 0.8 #probability that an oracle predicts correctly\n",
    "P_INCORRECT = 0.2 # probability that an oracle predicts incorrectly\n",
    "DEFAULT_BITS = 8 #number of bits for binary representation for hamming dist calculation\n",
    "STRONG = 1.2 #20% gain / decrease \n",
    "NORMAL = 1.02 #2% gain / decrease\n",
    "MAX_INVESTMENT = 100 # Investment in case of All oracle say UP/DOWN"
   ]
  },
  {
   "cell_type": "code",
   "execution_count": null,
   "metadata": {
    "collapsed": true
   },
   "outputs": [],
   "source": [
    "# compute the hamming distance between s1 and s2 which must binary strings of the same length\n",
    "def hamming2(s1, s2):\n",
    "    \"\"\"Calculate the Hamming distance between two bit strings\"\"\"\n",
    "    assert len(s1) == len(s2)\n",
    "    return sum(c1 != c2 for c1, c2 in zip(s1, s2))"
   ]
  },
  {
   "cell_type": "code",
   "execution_count": null,
   "metadata": {
    "collapsed": true
   },
   "outputs": [],
   "source": [
    "# transforms an int into a string binary representation with n bits\n",
    "get_bin = lambda x, n=DEFAULT_BITS: format(x, 'b').zfill(n)"
   ]
  },
  {
   "cell_type": "code",
   "execution_count": null,
   "metadata": {},
   "outputs": [],
   "source": [
    "# Computes the hamming distances between the predictions (row indices) and reality (columns indices)\n",
    "rows = range(8)\n",
    "cols = [0, 1, 3, 7]\n",
    "df = pd.DataFrame(index = rows, columns = cols)\n",
    "for i in range(8):\n",
    "    for j in cols:\n",
    "        df[j][i] = hamming2(get_bin(i), get_bin(j))\n",
    "df"
   ]
  },
  {
   "cell_type": "code",
   "execution_count": null,
   "metadata": {},
   "outputs": [],
   "source": [
    "# computes the probability of each prediction wrt reality\n",
    "prob_df = P_INCORRECT**df * P_CORRECT**(3 - df)\n",
    "prob_df"
   ]
  },
  {
   "cell_type": "code",
   "execution_count": null,
   "metadata": {
    "collapsed": true
   },
   "outputs": [],
   "source": [
    "def swap(x, val):\n",
    "    if(x < val):\n",
    "        return -(1-x)\n",
    "    else:\n",
    "        return x"
   ]
  },
  {
   "cell_type": "code",
   "execution_count": null,
   "metadata": {
    "collapsed": true
   },
   "outputs": [],
   "source": [
    "def ev(x, val):\n",
    "    if(x < val):\n",
    "        return 'sell'\n",
    "    else:\n",
    "        return 'buy'"
   ]
  },
  {
   "cell_type": "code",
   "execution_count": null,
   "metadata": {},
   "outputs": [],
   "source": [
    "# Computes the amount we should invest depending on the prediction, a negative amount \n",
    "# indicates we should short\n",
    "summed_df = pd.DataFrame(index = range(8), columns = ['sell', 'buy'])\n",
    "summed_df['sell'] = prob_df[0]*STRONG + prob_df[1]*NORMAL\n",
    "summed_df['buy'] = prob_df[3]*NORMAL + prob_df[7]*STRONG\n",
    "summed_df['sum'] = summed_df['buy'] + summed_df['sell']\n",
    "#summed_df['coeff'] = max(summed_df['buy']/summed_df['sum'], summed_df['sell']/summed_df['sum'])\n",
    "summed_df['ratio'] = summed_df['buy']/summed_df['sum']\n",
    "\n",
    "decision_df = summed_df.copy().drop(['sell', 'buy', 'sum'],axis=1)\n",
    "decision_df['choice'] = summed_df['ratio'].apply(lambda x: ev(x, 0.5))\n",
    "decision_df['ratio'] = summed_df['ratio'].apply(lambda x: swap(x, 0.5))\n",
    "max_ratio = max(decision_df['ratio'])\n",
    "decision_df['ratio'] = decision_df['ratio']/max_ratio\n",
    "decision_df['amount'] = MAX_INVESTMENT*decision_df['ratio']\n",
    "decision_df"
   ]
  },
  {
   "cell_type": "code",
   "execution_count": null,
   "metadata": {
    "collapsed": true
   },
   "outputs": [],
   "source": [
    "# Takes the reality realisation as input and computes the prediction by generating random probability\n",
    "# to simulate the probability that an oracle is correct with probability P_CORRECT\n",
    "# OUTPUTS a value between 0 and 7 (included)\n",
    "def predict(real):\n",
    "    x1 = int(real/4)\n",
    "    x2 = int((real%4)/2)\n",
    "    x3 = real%2\n",
    "    #print(\"{}{}{}\".format(x1,x2,x3))\n",
    "    pred = 0\n",
    "    r1 = rd.random() \n",
    "    r2 = rd.random() \n",
    "    r3 = rd.random() \n",
    "    \n",
    "    if(r1 < P_CORRECT):\n",
    "        pred = pred + 4*x1\n",
    "    else:\n",
    "        pred = pred + 4*((x1+1)%2)\n",
    "    if(r2 < P_CORRECT):\n",
    "        pred = pred + 2*x1\n",
    "    else:\n",
    "        pred = pred + 2*((x2+1)%2)\n",
    "    if(r3 < P_CORRECT):\n",
    "        pred = pred + x1\n",
    "    else:\n",
    "        pred = pred + ((x3+1)%2)\n",
    "     \n",
    "    return pred"
   ]
  },
  {
   "cell_type": "code",
   "execution_count": null,
   "metadata": {},
   "outputs": [],
   "source": [
    "# Gains contains respective values for strong sell, sell, buy, strong buy\n",
    "# the sell values are negative this way if we predict buy but reality was sell, we will invest positive\n",
    "# and multiply by negative, which will lead to a loss\n",
    "gains = [- STRONG, - NORMAL, NORMAL, STRONG]\n",
    "reals = [0, 1, 3,7]\n",
    "gains"
   ]
  },
  {
   "cell_type": "code",
   "execution_count": null,
   "metadata": {
    "collapsed": true
   },
   "outputs": [],
   "source": [
    "# compute the profit given the bet amount, the prediction, the realisation and the decision directions\n",
    "def gainzzz(amount, prediction, reality, df):\n",
    "    investment = amount*df['ratio'][prediction]\n",
    "    coeff = gains[reals.index(reality)]\n",
    "    tmp = investment * coeff\n",
    "    print(coeff)\n",
    "    if(investment*tmp > 0): \n",
    "        return tmp - investment\n",
    "    else: \n",
    "        return tmp + investment"
   ]
  },
  {
   "cell_type": "code",
   "execution_count": null,
   "metadata": {},
   "outputs": [],
   "source": [
    "gainzzz(100, 3, 3, decision_df)"
   ]
  },
  {
   "cell_type": "code",
   "execution_count": null,
   "metadata": {},
   "outputs": [],
   "source": [
    "# generates a random reality event, computes a prediction given the oracles probability and returns\n",
    "# the profit\n",
    "def simulation(amount):\n",
    "    reality = reals[rd.randint(0, 4)]\n",
    "    prediction = predict(reality)\n",
    "    return gainzzz(amount, prediction, reality, decision_df)"
   ]
  },
  {
   "cell_type": "code",
   "execution_count": null,
   "metadata": {
    "scrolled": true
   },
   "outputs": [],
   "source": [
    "simulation(100)"
   ]
  },
  {
   "cell_type": "code",
   "execution_count": null,
   "metadata": {},
   "outputs": [],
   "source": [
    "money = 100\n",
    "\n",
    "stats = []\n",
    "for i in range(30):\n",
    "    \n",
    "    #print(\"total at iteration: {} = {}\".format(i, money))\n",
    "    tmp = simulation(money)\n",
    "    stats.append(tmp/money)\n",
    "    money += simulation(money)\n",
    "money"
   ]
  }
 ],
 "metadata": {
  "kernelspec": {
   "display_name": "Python [conda root]",
   "language": "python",
   "name": "conda-root-py"
  },
  "language_info": {
   "codemirror_mode": {
    "name": "ipython",
    "version": 3
   },
   "file_extension": ".py",
   "mimetype": "text/x-python",
   "name": "python",
   "nbconvert_exporter": "python",
   "pygments_lexer": "ipython3",
   "version": "3.6.1"
  }
 },
 "nbformat": 4,
 "nbformat_minor": 2
}
