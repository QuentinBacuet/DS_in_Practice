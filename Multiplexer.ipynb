{
 "cells": [
  {
   "cell_type": "code",
   "execution_count": 1,
   "metadata": {
    "collapsed": true
   },
   "outputs": [],
   "source": [
    "import pandas as pd\n",
    "from IPython.display import display, HTML\n",
    "import matplotlib.pyplot as plt\n",
    "import numpy as np\n",
    "import numpy.random as rd"
   ]
  },
  {
   "cell_type": "code",
   "execution_count": 2,
   "metadata": {
    "collapsed": true
   },
   "outputs": [],
   "source": [
    "P_CORRECT = 0.8 #probability that an oracle predicts correctly\n",
    "P_INCORRECT = 0.2 # probability that an oracle predicts incorrectly\n",
    "DEFAULT_BITS = 8 #number of bits for binary representation for hamming dist calculation\n",
    "STRONG = 1.2 #20% gain / decrease \n",
    "NORMAL = 1.02 #2% gain / decrease\n",
    "MAX_INVESTMENT = 100 # Investment in case of All oracle say UP/DOWN"
   ]
  },
  {
   "cell_type": "code",
   "execution_count": 3,
   "metadata": {
    "collapsed": true
   },
   "outputs": [],
   "source": [
    "# compute the hamming distance between s1 and s2 which must binary strings of the same length\n",
    "def hamming2(s1, s2):\n",
    "    \"\"\"Calculate the Hamming distance between two bit strings\"\"\"\n",
    "    assert len(s1) == len(s2)\n",
    "    return sum(c1 != c2 for c1, c2 in zip(s1, s2))"
   ]
  },
  {
   "cell_type": "code",
   "execution_count": 4,
   "metadata": {
    "collapsed": true
   },
   "outputs": [],
   "source": [
    "# transforms an int into a string binary representation with n bits\n",
    "get_bin = lambda x, n=DEFAULT_BITS: format(x, 'b').zfill(n)"
   ]
  },
  {
   "cell_type": "code",
   "execution_count": 6,
   "metadata": {},
   "outputs": [
    {
     "data": {
      "text/html": [
       "<div>\n",
       "<style>\n",
       "    .dataframe thead tr:only-child th {\n",
       "        text-align: right;\n",
       "    }\n",
       "\n",
       "    .dataframe thead th {\n",
       "        text-align: left;\n",
       "    }\n",
       "\n",
       "    .dataframe tbody tr th {\n",
       "        vertical-align: top;\n",
       "    }\n",
       "</style>\n",
       "<table border=\"1\" class=\"dataframe\">\n",
       "  <thead>\n",
       "    <tr style=\"text-align: right;\">\n",
       "      <th></th>\n",
       "      <th>0</th>\n",
       "      <th>1</th>\n",
       "      <th>3</th>\n",
       "      <th>7</th>\n",
       "    </tr>\n",
       "  </thead>\n",
       "  <tbody>\n",
       "    <tr>\n",
       "      <th>0</th>\n",
       "      <td>0</td>\n",
       "      <td>1</td>\n",
       "      <td>2</td>\n",
       "      <td>3</td>\n",
       "    </tr>\n",
       "    <tr>\n",
       "      <th>1</th>\n",
       "      <td>1</td>\n",
       "      <td>0</td>\n",
       "      <td>1</td>\n",
       "      <td>2</td>\n",
       "    </tr>\n",
       "    <tr>\n",
       "      <th>2</th>\n",
       "      <td>1</td>\n",
       "      <td>2</td>\n",
       "      <td>1</td>\n",
       "      <td>2</td>\n",
       "    </tr>\n",
       "    <tr>\n",
       "      <th>3</th>\n",
       "      <td>2</td>\n",
       "      <td>1</td>\n",
       "      <td>0</td>\n",
       "      <td>1</td>\n",
       "    </tr>\n",
       "    <tr>\n",
       "      <th>4</th>\n",
       "      <td>1</td>\n",
       "      <td>2</td>\n",
       "      <td>3</td>\n",
       "      <td>2</td>\n",
       "    </tr>\n",
       "    <tr>\n",
       "      <th>5</th>\n",
       "      <td>2</td>\n",
       "      <td>1</td>\n",
       "      <td>2</td>\n",
       "      <td>1</td>\n",
       "    </tr>\n",
       "    <tr>\n",
       "      <th>6</th>\n",
       "      <td>2</td>\n",
       "      <td>3</td>\n",
       "      <td>2</td>\n",
       "      <td>1</td>\n",
       "    </tr>\n",
       "    <tr>\n",
       "      <th>7</th>\n",
       "      <td>3</td>\n",
       "      <td>2</td>\n",
       "      <td>1</td>\n",
       "      <td>0</td>\n",
       "    </tr>\n",
       "  </tbody>\n",
       "</table>\n",
       "</div>"
      ],
      "text/plain": [
       "   0  1  3  7\n",
       "0  0  1  2  3\n",
       "1  1  0  1  2\n",
       "2  1  2  1  2\n",
       "3  2  1  0  1\n",
       "4  1  2  3  2\n",
       "5  2  1  2  1\n",
       "6  2  3  2  1\n",
       "7  3  2  1  0"
      ]
     },
     "execution_count": 6,
     "metadata": {},
     "output_type": "execute_result"
    }
   ],
   "source": [
    "# Computes the hamming distances between the predictions (row indices) and reality (columns indices)\n",
    "rows = range(8)\n",
    "cols = [0, 1, 3, 7]\n",
    "df = pd.DataFrame(index = rows, columns = cols)\n",
    "for i in range(8):\n",
    "    for j in cols:\n",
    "        df[j][i] = hamming2(get_bin(i), get_bin(j))\n",
    "df"
   ]
  },
  {
   "cell_type": "code",
   "execution_count": 7,
   "metadata": {},
   "outputs": [
    {
     "data": {
      "text/html": [
       "<div>\n",
       "<style>\n",
       "    .dataframe thead tr:only-child th {\n",
       "        text-align: right;\n",
       "    }\n",
       "\n",
       "    .dataframe thead th {\n",
       "        text-align: left;\n",
       "    }\n",
       "\n",
       "    .dataframe tbody tr th {\n",
       "        vertical-align: top;\n",
       "    }\n",
       "</style>\n",
       "<table border=\"1\" class=\"dataframe\">\n",
       "  <thead>\n",
       "    <tr style=\"text-align: right;\">\n",
       "      <th></th>\n",
       "      <th>0</th>\n",
       "      <th>1</th>\n",
       "      <th>3</th>\n",
       "      <th>7</th>\n",
       "    </tr>\n",
       "  </thead>\n",
       "  <tbody>\n",
       "    <tr>\n",
       "      <th>0</th>\n",
       "      <td>0.512</td>\n",
       "      <td>0.128</td>\n",
       "      <td>0.032</td>\n",
       "      <td>0.008</td>\n",
       "    </tr>\n",
       "    <tr>\n",
       "      <th>1</th>\n",
       "      <td>0.128</td>\n",
       "      <td>0.512</td>\n",
       "      <td>0.128</td>\n",
       "      <td>0.032</td>\n",
       "    </tr>\n",
       "    <tr>\n",
       "      <th>2</th>\n",
       "      <td>0.128</td>\n",
       "      <td>0.032</td>\n",
       "      <td>0.128</td>\n",
       "      <td>0.032</td>\n",
       "    </tr>\n",
       "    <tr>\n",
       "      <th>3</th>\n",
       "      <td>0.032</td>\n",
       "      <td>0.128</td>\n",
       "      <td>0.512</td>\n",
       "      <td>0.128</td>\n",
       "    </tr>\n",
       "    <tr>\n",
       "      <th>4</th>\n",
       "      <td>0.128</td>\n",
       "      <td>0.032</td>\n",
       "      <td>0.008</td>\n",
       "      <td>0.032</td>\n",
       "    </tr>\n",
       "    <tr>\n",
       "      <th>5</th>\n",
       "      <td>0.032</td>\n",
       "      <td>0.128</td>\n",
       "      <td>0.032</td>\n",
       "      <td>0.128</td>\n",
       "    </tr>\n",
       "    <tr>\n",
       "      <th>6</th>\n",
       "      <td>0.032</td>\n",
       "      <td>0.008</td>\n",
       "      <td>0.032</td>\n",
       "      <td>0.128</td>\n",
       "    </tr>\n",
       "    <tr>\n",
       "      <th>7</th>\n",
       "      <td>0.008</td>\n",
       "      <td>0.032</td>\n",
       "      <td>0.128</td>\n",
       "      <td>0.512</td>\n",
       "    </tr>\n",
       "  </tbody>\n",
       "</table>\n",
       "</div>"
      ],
      "text/plain": [
       "       0      1      3      7\n",
       "0  0.512  0.128  0.032  0.008\n",
       "1  0.128  0.512  0.128  0.032\n",
       "2  0.128  0.032  0.128  0.032\n",
       "3  0.032  0.128  0.512  0.128\n",
       "4  0.128  0.032  0.008  0.032\n",
       "5  0.032  0.128  0.032  0.128\n",
       "6  0.032  0.008  0.032  0.128\n",
       "7  0.008  0.032  0.128  0.512"
      ]
     },
     "execution_count": 7,
     "metadata": {},
     "output_type": "execute_result"
    }
   ],
   "source": [
    "# computes the probability of each prediction wrt reality\n",
    "prob_df = P_INCORRECT**df * P_CORRECT**(3 - df)\n",
    "prob_df"
   ]
  },
  {
   "cell_type": "code",
   "execution_count": 8,
   "metadata": {
    "collapsed": true
   },
   "outputs": [],
   "source": [
    "def swap(x, val):\n",
    "    if(x < val):\n",
    "        return -(1-x)\n",
    "    else:\n",
    "        return x"
   ]
  },
  {
   "cell_type": "code",
   "execution_count": 9,
   "metadata": {
    "collapsed": true
   },
   "outputs": [],
   "source": [
    "def ev(x, val):\n",
    "    if(x < val):\n",
    "        return 'sell'\n",
    "    else:\n",
    "        return 'buy'"
   ]
  },
  {
   "cell_type": "code",
   "execution_count": 10,
   "metadata": {},
   "outputs": [
    {
     "data": {
      "text/html": [
       "<div>\n",
       "<style>\n",
       "    .dataframe thead tr:only-child th {\n",
       "        text-align: right;\n",
       "    }\n",
       "\n",
       "    .dataframe thead th {\n",
       "        text-align: left;\n",
       "    }\n",
       "\n",
       "    .dataframe tbody tr th {\n",
       "        vertical-align: top;\n",
       "    }\n",
       "</style>\n",
       "<table border=\"1\" class=\"dataframe\">\n",
       "  <thead>\n",
       "    <tr style=\"text-align: right;\">\n",
       "      <th></th>\n",
       "      <th>ratio</th>\n",
       "      <th>choice</th>\n",
       "      <th>amount</th>\n",
       "    </tr>\n",
       "  </thead>\n",
       "  <tbody>\n",
       "    <tr>\n",
       "      <th>0</th>\n",
       "      <td>-1.000000</td>\n",
       "      <td>sell</td>\n",
       "      <td>-100.000000</td>\n",
       "    </tr>\n",
       "    <tr>\n",
       "      <th>1</th>\n",
       "      <td>-0.845361</td>\n",
       "      <td>sell</td>\n",
       "      <td>-84.536082</td>\n",
       "    </tr>\n",
       "    <tr>\n",
       "      <th>2</th>\n",
       "      <td>-0.554054</td>\n",
       "      <td>sell</td>\n",
       "      <td>-55.405405</td>\n",
       "    </tr>\n",
       "    <tr>\n",
       "      <th>3</th>\n",
       "      <td>0.845361</td>\n",
       "      <td>buy</td>\n",
       "      <td>84.536082</td>\n",
       "    </tr>\n",
       "    <tr>\n",
       "      <th>4</th>\n",
       "      <td>-0.845361</td>\n",
       "      <td>sell</td>\n",
       "      <td>-84.536082</td>\n",
       "    </tr>\n",
       "    <tr>\n",
       "      <th>5</th>\n",
       "      <td>0.554054</td>\n",
       "      <td>buy</td>\n",
       "      <td>55.405405</td>\n",
       "    </tr>\n",
       "    <tr>\n",
       "      <th>6</th>\n",
       "      <td>0.845361</td>\n",
       "      <td>buy</td>\n",
       "      <td>84.536082</td>\n",
       "    </tr>\n",
       "    <tr>\n",
       "      <th>7</th>\n",
       "      <td>1.000000</td>\n",
       "      <td>buy</td>\n",
       "      <td>100.000000</td>\n",
       "    </tr>\n",
       "  </tbody>\n",
       "</table>\n",
       "</div>"
      ],
      "text/plain": [
       "      ratio choice      amount\n",
       "0 -1.000000   sell -100.000000\n",
       "1 -0.845361   sell  -84.536082\n",
       "2 -0.554054   sell  -55.405405\n",
       "3  0.845361    buy   84.536082\n",
       "4 -0.845361   sell  -84.536082\n",
       "5  0.554054    buy   55.405405\n",
       "6  0.845361    buy   84.536082\n",
       "7  1.000000    buy  100.000000"
      ]
     },
     "execution_count": 10,
     "metadata": {},
     "output_type": "execute_result"
    }
   ],
   "source": [
    "# Computes the amount we should invest depending on the prediction, a negative amount \n",
    "# indicates we should short\n",
    "summed_df = pd.DataFrame(index = range(8), columns = ['sell', 'buy'])\n",
    "summed_df['sell'] = prob_df[0]*STRONG + prob_df[1]*NORMAL\n",
    "summed_df['buy'] = prob_df[3]*NORMAL + prob_df[7]*STRONG\n",
    "summed_df['sum'] = summed_df['buy'] + summed_df['sell']\n",
    "#summed_df['coeff'] = max(summed_df['buy']/summed_df['sum'], summed_df['sell']/summed_df['sum'])\n",
    "summed_df['ratio'] = summed_df['buy']/summed_df['sum']\n",
    "\n",
    "decision_df = summed_df.copy().drop(['sell', 'buy', 'sum'],axis=1)\n",
    "decision_df['choice'] = summed_df['ratio'].apply(lambda x: ev(x, 0.5))\n",
    "decision_df['ratio'] = summed_df['ratio'].apply(lambda x: swap(x, 0.5))\n",
    "max_ratio = max(decision_df['ratio'])\n",
    "decision_df['ratio'] = decision_df['ratio']/max_ratio\n",
    "decision_df['amount'] = MAX_INVESTMENT*decision_df['ratio']\n",
    "decision_df"
   ]
  },
  {
   "cell_type": "code",
   "execution_count": 15,
   "metadata": {
    "collapsed": true
   },
   "outputs": [],
   "source": [
    "# Takes the reality realisation as input and computes the prediction by generating random probability\n",
    "# to simulate the probability that an oracle is correct with probability P_CORRECT\n",
    "# OUTPUTS a value between 0 and 7 (included)\n",
    "def predict(real):\n",
    "    x1 = int(real/4)\n",
    "    x2 = int((real%4)/2)\n",
    "    x3 = real%2\n",
    "    #print(\"{}{}{}\".format(x1,x2,x3))\n",
    "    pred = 0\n",
    "    r1 = rd.random() \n",
    "    r2 = rd.random() \n",
    "    r3 = rd.random() \n",
    "    \n",
    "    if(r1 < P_CORRECT):\n",
    "        pred = pred + 4*x1\n",
    "    else:\n",
    "        pred = pred + 4*((x1+1)%2)\n",
    "    if(r2 < P_CORRECT):\n",
    "        pred = pred + 2*x1\n",
    "    else:\n",
    "        pred = pred + 2*((x2+1)%2)\n",
    "    if(r3 < P_CORRECT):\n",
    "        pred = pred + x1\n",
    "    else:\n",
    "        pred = pred + ((x3+1)%2)\n",
    "     \n",
    "    return pred"
   ]
  },
  {
   "cell_type": "code",
   "execution_count": 17,
   "metadata": {},
   "outputs": [
    {
     "data": {
      "text/plain": [
       "[-1.2, -1.02, 1.02, 1.2]"
      ]
     },
     "execution_count": 17,
     "metadata": {},
     "output_type": "execute_result"
    }
   ],
   "source": [
    "# Gains contains respective values for strong sell, sell, buy, strong buy\n",
    "# the sell values are negative this way if we predict buy but reality was sell, we will invest positive\n",
    "# and multiply by negative, which will lead to a loss\n",
    "gains = [- STRONG, - NORMAL, NORMAL, STRONG]\n",
    "reals = [0, 1, 3,7]\n",
    "gains"
   ]
  },
  {
   "cell_type": "code",
   "execution_count": 387,
   "metadata": {
    "collapsed": true
   },
   "outputs": [],
   "source": [
    "# compute the profit given the bet amount, the prediction, the realisation and the decision directions\n",
    "def gainzzz(amount, prediction, reality, df):\n",
    "    investment = amount*df['ratio'][prediction]\n",
    "    coeff = gains[reals.index(reality)]\n",
    "    tmp = investment * coeff\n",
    "    print(coeff)\n",
    "    if(investment*tmp > 0): \n",
    "        return tmp - investment\n",
    "    else: \n",
    "        return tmp + investment"
   ]
  },
  {
   "cell_type": "code",
   "execution_count": 394,
   "metadata": {},
   "outputs": [
    {
     "name": "stdout",
     "output_type": "stream",
     "text": [
      "1.02\n"
     ]
    },
    {
     "data": {
      "text/plain": [
       "1.6907216494845443"
      ]
     },
     "execution_count": 394,
     "metadata": {},
     "output_type": "execute_result"
    }
   ],
   "source": [
    "gainzzz(100, 3, 3, decision_df)"
   ]
  },
  {
   "cell_type": "code",
   "execution_count": 255,
   "metadata": {},
   "outputs": [],
   "source": [
    "# generates a random reality event, computes a prediction given the oracles probability and returns\n",
    "# the profit\n",
    "def simulation(amount):\n",
    "    reality = reals[rd.randint(0, 4)]\n",
    "    prediction = predict(reality)\n",
    "    return gainzzz(amount, prediction, reality, decision_df)"
   ]
  },
  {
   "cell_type": "code",
   "execution_count": 208,
   "metadata": {
    "scrolled": true
   },
   "outputs": [
    {
     "data": {
      "text/plain": [
       "20.0"
      ]
     },
     "execution_count": 208,
     "metadata": {},
     "output_type": "execute_result"
    }
   ],
   "source": [
    "simulation(100)"
   ]
  },
  {
   "cell_type": "code",
   "execution_count": 375,
   "metadata": {},
   "outputs": [
    {
     "data": {
      "text/plain": [
       "280.08599189427457"
      ]
     },
     "execution_count": 375,
     "metadata": {},
     "output_type": "execute_result"
    }
   ],
   "source": [
    "money = 100\n",
    "\n",
    "stats = []\n",
    "for i in range(30):\n",
    "    \n",
    "    #print(\"total at iteration: {} = {}\".format(i, money))\n",
    "    tmp = simulation(money)\n",
    "    stats.append(tmp/money)\n",
    "    money += simulation(money)\n",
    "money"
   ]
  }
 ],
 "metadata": {
  "kernelspec": {
   "display_name": "Python [conda root]",
   "language": "python",
   "name": "conda-root-py"
  },
  "language_info": {
   "codemirror_mode": {
    "name": "ipython",
    "version": 3
   },
   "file_extension": ".py",
   "mimetype": "text/x-python",
   "name": "python",
   "nbconvert_exporter": "python",
   "pygments_lexer": "ipython3",
   "version": "3.6.1"
  }
 },
 "nbformat": 4,
 "nbformat_minor": 2
}
